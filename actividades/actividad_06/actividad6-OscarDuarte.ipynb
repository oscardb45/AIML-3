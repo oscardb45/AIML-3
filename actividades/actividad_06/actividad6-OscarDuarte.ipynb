{
 "cells": [
  {
   "cell_type": "markdown",
   "id": "fa1746bf-589b-4412-bb97-f26aba8a3354",
   "metadata": {},
   "source": [
    "## Actividad 06 - Validación cruzada en un conjunto de datos bancarios\n",
    "#### Oscar Alejandro Duarte Bonilla"
   ]
  },
  {
   "cell_type": "markdown",
   "id": "f5b4aa39-6403-4949-8bd9-7fd247adda30",
   "metadata": {},
   "source": [
    "#### DATASET\n",
    "Los datos están relacionados con campañas de marketing directo (llamadas telefónicas) de una institución bancaria portuguesa. El objetivo de la clasificación es predecir si el cliente suscribirá un depósito a plazo (variable y).\n",
    "Nota: El dataset no contiene valores faltantes\n",
    "##### https://archive.ics.uci.edu/dataset/222/bank+marketing\n",
    "#### Variable Objetivo\n",
    "###### y - ¿El cliente ha suscrito un depósito a plazo?, binary: \"yes\",\"no\"\n",
    "#### Variables Predictoras\n",
    "###### age - Edad\n",
    "###### job - Tipo de trabajo (categorical: \"admin.\",\"unknown\",\"unemployed\",\"management\",\"housemaid\",\"entrepreneur\",\"student\",\"blue-collar\",\"self-employed\",\"retired\",\"technician\",\"services\")\n",
    "###### marital - Estado civil (categorical: \"married\",\"divorced\",\"single\"; note: \"divorced\" means divorced or widowed)\n",
    "###### education - (categorical: 'basic.4y','basic.6y','basic.9y','high.school','illiterate','professional.course','university.degree','unknown')\n",
    "###### default - ¿Tiene crédito en mora? (binary: \"yes\",\"no\")\n",
    "###### balance - Saldo medio anual en Euros (numeric) \n",
    "###### housing - ¿Tiene préstamo para vivienda? (binary: \"yes\",\"no\")\n",
    "###### loan - ¿Tiene un préstamo personal? (binary: \"yes\",\"no\")\n",
    "###### contact - Tipo de comunicación de contacto (categórico: \"unknown\",\"telephone\",\"cellular\") \n",
    "###### day_of_week - Último día de contacto de la semana(numeric)\n",
    "###### month - Último mes del año en contacto (categórico: \"jan\", \"feb\", \"mar\", ..., \"nov\", \"dec\")\n",
    "###### duration - Duración del último contacto, en segundos (numérico).\n",
    "###### *** Nota importante: este atributo afecta en gran medida al objetivo de salida (por ejemplo, si duration=0 then y='no'). Sin embargo, no se conoce la duración antes de que se realice una llamada. Además, después del final de la llamada se conoce obviamente y. Por lo tanto, esta entrada solo debe incluirse con fines de referencia y debe descartarse si la intención es tener un modelo predictivo realista. ***\n",
    "###### campaign - Número de contactos realizados durante esta campaña y para este cliente (numérico, incluye el último contacto)\n",
    "###### pdays - Número de días que transcurrieron desde la última vez que el cliente fue contactado de una campaña anterior (numérico; -1 significa que el cliente no fue contactado anteriormente)\n",
    "###### previous - Número de contactos realizados antes de esta campaña y para este cliente\n",
    "###### poutcome - Resultado de la campaña de marketing anterior (categorical: 'failure','nonexistent','success')\n",
    "\n",
    "#### Total de columnas\n",
    "##### 15 de entrada(features)\n",
    "##### 1 objetivo"
   ]
  },
  {
   "cell_type": "code",
   "execution_count": 144,
   "id": "e49eac09-ac26-4730-b738-e8ffcd968f58",
   "metadata": {},
   "outputs": [],
   "source": [
    "import numpy as np\n",
    "import pandas as pd\n",
    "import matplotlib.pyplot as plt\n",
    "import seaborn as sns\n",
    "from sklearn.model_selection import train_test_split, cross_val_score, cross_validate\n",
    "from sklearn.preprocessing import StandardScaler, OneHotEncoder\n",
    "from sklearn.compose import ColumnTransformer\n",
    "from sklearn.pipeline import Pipeline\n",
    "from sklearn.ensemble import RandomForestClassifier\n",
    "from sklearn.metrics import classification_report, accuracy_score, ConfusionMatrixDisplay\n",
    "from sklearn.datasets import fetch_openml\n",
    "from sklearn.metrics import make_scorer, accuracy_score, precision_score, recall_score, f1_score\n",
    "from sklearn.utils import resample"
   ]
  },
  {
   "cell_type": "code",
   "execution_count": 147,
   "id": "928d6b56-b29a-4c79-95cd-c9dd5c4f2463",
   "metadata": {},
   "outputs": [],
   "source": [
    "# Cargar dataset\n",
    "df = pd.read_csv(\"bank.csv\", sep=';')\n",
    "y = df[\"y\"].map({'yes': 1, 'no': 0})  # copiar la columna Y del df y binarizar su valor"
   ]
  },
  {
   "cell_type": "code",
   "execution_count": 148,
   "id": "3c431e77-f042-4031-914d-f98001218abe",
   "metadata": {},
   "outputs": [
    {
     "data": {
      "image/png": "[encoded data removed]",
      "text/plain": [
       "<Figure size 1200x800 with 2 Axes>"
      ]
     },
     "metadata": {},
     "output_type": "display_data"
    }
   ],
   "source": [
    "# Justificacion de la eliminacion de la columna \"duration\"\n",
    "# Segun la nota del dataset esta variable influye grandemente en la varible taget, si duration=0 entonces y=0. \n",
    "# La recomendacion es eliminarla si se busca crear un modelo predictor realista\n",
    "# A pesar que no es parte de la tarea se realizó una verificación con el mapa de calor encontrando una correlacion moderada de \"duration\" con la variable target\n",
    "\n",
    "df_num = df.select_dtypes(include='number')\n",
    "result = pd.concat([df_num, y], axis=1)\n",
    "plt.figure(figsize=(12,8))\n",
    "sns.heatmap(result.corr(), annot=False, cmap='coolwarm', center=0, linewidths=0.5)\n",
    "plt.show()"
   ]
  },
  {
   "cell_type": "code",
   "execution_count": 149,
   "id": "e3fe5f32-f9fe-4e95-a19d-5eca5de813de",
   "metadata": {},
   "outputs": [
    {
     "data": {
      "text/plain": [
       "y\n",
       "no     4000\n",
       "yes     521\n",
       "Name: count, dtype: int64"
      ]
     },
     "execution_count": 149,
     "metadata": {},
     "output_type": "execute_result"
    }
   ],
   "source": [
    "df['y'].value_counts()"
   ]
  },
  {
   "cell_type": "code",
   "execution_count": 150,
   "id": "1bd8df8d-d2f9-4ae4-9001-abd88aa7ae5e",
   "metadata": {},
   "outputs": [
    {
     "data": {
      "text/plain": [
       "y\n",
       "no     4000\n",
       "yes    4000\n",
       "Name: count, dtype: int64"
      ]
     },
     "execution_count": 150,
     "metadata": {},
     "output_type": "execute_result"
    }
   ],
   "source": [
    "#Es necesario balancer clases\n",
    "df_majority = df[df.y == \"no\"]\n",
    "df_minority = df[df.y == \"yes\"]\n",
    "\n",
    "df_minority_upsampled = resample(\n",
    "    df_minority,\n",
    "    replace=True,\n",
    "    n_samples=len(df_majority),\n",
    "    random_state=42\n",
    ")\n",
    "\n",
    "df_balanced = pd.concat([df_majority, df_minority_upsampled])\n",
    "df_balanced['y'].value_counts()"
   ]
  },
  {
   "cell_type": "code",
   "execution_count": 151,
   "id": "1d00c8c4-ca96-415f-bde4-ca54e16c1284",
   "metadata": {},
   "outputs": [],
   "source": [
    "# Variables\n",
    "X = df_balanced.drop([\"y\", \"duration\"], axis=1) #Copiar el df a excepcion de la columna y y duration\n",
    "y = df_balanced[\"y\"].map({'yes': 1, 'no': 0})  # copiar la columna Y del df y binarizar su valor"
   ]
  },
  {
   "cell_type": "code",
   "execution_count": 152,
   "id": "11c57dd9-51cc-497e-9e02-dc200767a90d",
   "metadata": {},
   "outputs": [],
   "source": [
    "# Identificar variables numéricas y categóricas\n",
    "numeric_features = X.select_dtypes(include=[\"int64\", \"float64\"]).columns\n",
    "categorical_features = X.select_dtypes(include=[\"object\"]).columns"
   ]
  },
  {
   "cell_type": "code",
   "execution_count": 153,
   "id": "af88dc85-6e00-49ac-aef1-336f22eef058",
   "metadata": {},
   "outputs": [],
   "source": [
    "# Preprocesamiento por tipo de columna\n",
    "# Escalar variables numéricas(Varianza 1, media 0) y Convertir las variables categoricas a variables binarias evitando colinealidad\n",
    "preprocessor = ColumnTransformer(\n",
    "    transformers=[\n",
    "        (\"num\", StandardScaler(), numeric_features),\n",
    "        (\"cat\", OneHotEncoder(drop=\"first\", handle_unknown=\"ignore\"), categorical_features),\n",
    "    ]\n",
    ")"
   ]
  },
  {
   "cell_type": "code",
   "execution_count": 154,
   "id": "4bdd0369-cbf8-4160-9189-227362e11f68",
   "metadata": {},
   "outputs": [],
   "source": [
    "# Crear pipeline con modelo\n",
    "pipeline = Pipeline(steps=[\n",
    "    (\"preprocessor\", preprocessor),\n",
    "    (\"classifier\", RandomForestClassifier(random_state=42))\n",
    "])"
   ]
  },
  {
   "cell_type": "code",
   "execution_count": 155,
   "id": "caa3083a-29ad-415f-9e93-365453ddd06a",
   "metadata": {},
   "outputs": [],
   "source": [
    "# Dividir en train/test\n",
    "X_train, X_test, y_train, y_test = train_test_split(X, y, test_size=0.2, stratify=y, random_state=42)"
   ]
  },
  {
   "cell_type": "code",
   "execution_count": 156,
   "id": "39e87519-027c-4e43-af9c-9e5edc11d92e",
   "metadata": {},
   "outputs": [],
   "source": [
    "# Definir K-fold\n",
    "kf = KFold(n_splits=5, shuffle=True, random_state=42)"
   ]
  },
  {
   "cell_type": "code",
   "execution_count": 157,
   "id": "aa3aafdf-4004-42a6-be88-b02f6ee76aa4",
   "metadata": {},
   "outputs": [],
   "source": [
    "# Definir métricas\n",
    "scoring = {\n",
    "    'accuracy': make_scorer(accuracy_score),\n",
    "    'precision': make_scorer(precision_score),\n",
    "    'recall': make_scorer(recall_score),\n",
    "    'f1': make_scorer(f1_score)\n",
    "}"
   ]
  },
  {
   "cell_type": "code",
   "execution_count": 158,
   "id": "2660f151-4aca-4b23-997c-c57d3fcecda7",
   "metadata": {},
   "outputs": [],
   "source": [
    "# Cross-validation\n",
    "results = cross_validate(pipeline, X_train, y_train, cv=kf, scoring=scoring)\n",
    "#cv_scores = cross_val_score(pipeline, X_train, y_train, cv=kf, scoring=\"accuracy\")"
   ]
  },
  {
   "cell_type": "code",
   "execution_count": 159,
   "id": "9555251d-c6d8-41b4-bb06-5715c2ac25d6",
   "metadata": {},
   "outputs": [
    {
     "name": "stdout",
     "output_type": "stream",
     "text": [
      "Metrica: Media ± DesvStd\n",
      "accuracy: 0.9727 ± 0.0042\n",
      "precision: 0.9544 ± 0.0092\n",
      "recall: 0.9925 ± 0.0042\n",
      "f1: 0.9731 ± 0.0050\n"
     ]
    }
   ],
   "source": [
    "# Promedio y desviación\n",
    "print(\"Metrica: Media ± DesvStd\")\n",
    "for metric in scoring.keys():\n",
    "    print(f\"{metric}: {results['test_' + metric].mean():.4f} ± {results['test_' + metric].std():.4f}\")"
   ]
  },
  {
   "cell_type": "code",
   "execution_count": 160,
   "id": "eb1c74d0-7cf0-4302-8354-48bf20eea6c8",
   "metadata": {},
   "outputs": [],
   "source": [
    "# Entrenar el modelo en todo el training set y evaluar en test\n",
    "pipeline.fit(X_train, y_train)\n",
    "y_pred = pipeline.predict(X_test)"
   ]
  },
  {
   "cell_type": "code",
   "execution_count": 161,
   "id": "8225079b-f35d-4ba8-ba5e-2135c377fd1c",
   "metadata": {},
   "outputs": [],
   "source": [
    "# Matriz de Confusión y Accuracy\n",
    "cm = confusion_matrix(y_test, y_pred)\n",
    "acc = accuracy_score(y_test, y_pred)"
   ]
  },
  {
   "cell_type": "code",
   "execution_count": 163,
   "id": "c62e7df2-dc06-463b-b63b-85f45b4609ff",
   "metadata": {},
   "outputs": [
    {
     "data": {
      "image/png": "[encoded data removed]",
      "text/plain": [
       "<Figure size 640x480 with 2 Axes>"
      ]
     },
     "metadata": {},
     "output_type": "display_data"
    }
   ],
   "source": [
    "# Mostrar matriz de confusión\n",
    "disp = ConfusionMatrixDisplay(confusion_matrix=cm, display_labels=pipeline.classes_)\n",
    "disp.plot(cmap=\"Blues\")\n",
    "plt.title(f\"Confusion Matrix (Accuracy: {acc:.2f})\")\n",
    "plt.show()"
   ]
  },
  {
   "cell_type": "markdown",
   "id": "aa72de91-b930-413d-b27f-ea4dab11b70e",
   "metadata": {},
   "source": [
    "TP: 797, FN:3(omisiones) , TN:765, FP: 35(Falsos alarmas)"
   ]
  },
  {
   "cell_type": "code",
   "execution_count": null,
   "id": "9b10346f-e4e8-4932-a9ad-506cc08f944d",
   "metadata": {},
   "outputs": [],
   "source": []
  }
 ],
 "metadata": {
  "kernelspec": {
   "display_name": "Python 3 (ipykernel)",
   "language": "python",
   "name": "python3"
  },
  "language_info": {
   "codemirror_mode": {
    "name": "ipython",
    "version": 3
   },
   "file_extension": ".py",
   "mimetype": "text/x-python",
   "name": "python",
   "nbconvert_exporter": "python",
   "pygments_lexer": "ipython3",
   "version": "3.13.3"
  }
 },
 "nbformat": 4,
 "nbformat_minor": 5
}
